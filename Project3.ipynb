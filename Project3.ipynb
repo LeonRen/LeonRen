{
 "cells": [
  {
   "cell_type": "code",
   "execution_count": 1,
   "metadata": {},
   "outputs": [],
   "source": [
    "import numpy as np \n",
    "import pickle \n",
    "import sys \n",
    "import time\n",
    "from numpy.linalg import norm \n",
    "from matplotlib import pyplot as plt"
   ]
  },
  {
   "cell_type": "code",
   "execution_count": 3,
   "metadata": {},
   "outputs": [],
   "source": [
    "import pandas as pd"
   ]
  },
  {
   "cell_type": "code",
   "execution_count": 5,
   "metadata": {},
   "outputs": [],
   "source": [
    "mainpath = \"C:\\\\Users\\\\leonr\\\\Downloads\\\\\""
   ]
  },
  {
   "cell_type": "code",
   "execution_count": 6,
   "metadata": {},
   "outputs": [],
   "source": [
    "df = pd.read_csv(mainpath + \"yelp.csv\")"
   ]
  },
  {
   "cell_type": "code",
   "execution_count": 9,
   "metadata": {},
   "outputs": [
    {
     "name": "stdout",
     "output_type": "stream",
     "text": [
      "-Dataset examples-\n",
      "                        user_id    name  review_count yelping_since  useful  \\\n",
      "0        JJ-aSuM4pCFPdkfoZ34q0Q   Chris            10    2013-09-24       0   \n",
      "500000   XgiawqkRRDp8XLCZ3GXQVw  Justin             4    2012-09-21       1   \n",
      "1000000  c-agaB7J539HMXveaq8TWw  Angela             7    2011-04-08       1   \n",
      "\n",
      "         funny  cool  fans elite  average_stars        ...          \\\n",
      "0            0     0     0  None           3.70        ...           \n",
      "500000       0     0     0  None           4.50        ...           \n",
      "1000000      0     0     0  None           4.43        ...           \n",
      "\n",
      "         compliment_more  compliment_profile  compliment_cute  \\\n",
      "0                      0                   0                0   \n",
      "500000                 0                   0                0   \n",
      "1000000                0                   0                0   \n",
      "\n",
      "         compliment_list  compliment_note  compliment_plain  compliment_cool  \\\n",
      "0                      0                0                 0                0   \n",
      "500000                 0                0                 0                0   \n",
      "1000000                0                0                 0                0   \n",
      "\n",
      "         compliment_funny  compliment_writer  compliment_photos  \n",
      "0                       0                  0                  0  \n",
      "500000                  0                  0                  0  \n",
      "1000000                 0                  0                  0  \n",
      "\n",
      "[3 rows x 21 columns]\n"
     ]
    }
   ],
   "source": [
    "print('-Dataset examples-')\n",
    "print(df.iloc[::500000, :])"
   ]
  },
  {
   "cell_type": "code",
   "execution_count": 14,
   "metadata": {},
   "outputs": [],
   "source": [
    "df1=df.drop(columns=['user_id', 'name',  'yelping_since', 'elite'])"
   ]
  },
  {
   "cell_type": "code",
   "execution_count": 15,
   "metadata": {},
   "outputs": [
    {
     "name": "stdout",
     "output_type": "stream",
     "text": [
      "-Dataset examples-\n",
      "         review_count  useful  funny  cool  fans  average_stars  \\\n",
      "0                  10       0      0     0     0           3.70   \n",
      "50000              13      12      1     2     0           5.00   \n",
      "100000             16       1      1     0     0           3.44   \n",
      "150000             16       2      0     0     0           3.82   \n",
      "200000             46       3     16     0     3           3.79   \n",
      "250000              1       2      0     0     0           1.00   \n",
      "300000             21      23     21     7     1           3.68   \n",
      "350000              2       0      0     0     0           1.00   \n",
      "400000              3       0      0     0     0           1.00   \n",
      "450000             43      14     11     5     5           3.35   \n",
      "500000              4       1      0     0     0           4.50   \n",
      "550000             16       4      2     0     0           3.65   \n",
      "600000             31       1      0     0     0           4.50   \n",
      "650000            321       7      4     3     3           4.09   \n",
      "700000            305     261     90   250    14           3.67   \n",
      "750000              4       1      0     0     0           3.75   \n",
      "800000             21      21      1     3     1           3.86   \n",
      "850000              2       0      0     0     0           1.00   \n",
      "900000              6       2      0     0     0           2.67   \n",
      "950000             16       0      0     0     0           4.72   \n",
      "1000000             7       1      0     0     0           4.43   \n",
      "1050000             6       0      0     0     2           3.83   \n",
      "1100000             3       0      0     1     0           5.00   \n",
      "1150000            50     129     40    38     0           4.00   \n",
      "1200000            21       1      0     0     0           3.95   \n",
      "1250000            14       3      0     0     1           3.50   \n",
      "1300000            26       3      0     0     1           3.30   \n",
      "\n",
      "         compliment_hot  compliment_more  compliment_profile  compliment_cute  \\\n",
      "0                     0                0                   0                0   \n",
      "50000                 1                0                   0                0   \n",
      "100000                0                0                   0                0   \n",
      "150000                0                0                   0                0   \n",
      "200000                0                0                   0                0   \n",
      "250000                0                0                   0                0   \n",
      "300000                0                1                   0                0   \n",
      "350000                0                0                   0                0   \n",
      "400000                0                0                   0                0   \n",
      "450000                5                0                   0                1   \n",
      "500000                0                0                   0                0   \n",
      "550000                0                1                   0                0   \n",
      "600000                0                0                   0                0   \n",
      "650000                0                0                   0                0   \n",
      "700000               14                3                   4                0   \n",
      "750000                0                0                   0                0   \n",
      "800000                0                0                   0                0   \n",
      "850000                0                0                   0                0   \n",
      "900000                0                0                   0                0   \n",
      "950000                0                0                   0                0   \n",
      "1000000               0                0                   0                0   \n",
      "1050000               0                0                   0                0   \n",
      "1100000               1                0                   0                0   \n",
      "1150000               0                1                   0                0   \n",
      "1200000               0                0                   0                0   \n",
      "1250000               0                0                   0                0   \n",
      "1300000               0                0                   0                0   \n",
      "\n",
      "         compliment_list  compliment_note  compliment_plain  compliment_cool  \\\n",
      "0                      0                0                 0                0   \n",
      "50000                  0                0                 1                0   \n",
      "100000                 0                0                 0                0   \n",
      "150000                 0                0                 0                0   \n",
      "200000                 0                0                 0                1   \n",
      "250000                 0                0                 0                0   \n",
      "300000                 0                1                 3                0   \n",
      "350000                 0                0                 0                0   \n",
      "400000                 0                0                 0                0   \n",
      "450000                 0                4                 3                6   \n",
      "500000                 0                0                 0                0   \n",
      "550000                 0                0                 0                0   \n",
      "600000                 0                0                 0                0   \n",
      "650000                 0                4                 3                0   \n",
      "700000                 2               22                32               33   \n",
      "750000                 0                0                 0                0   \n",
      "800000                 0                2                 0                0   \n",
      "850000                 0                0                 0                0   \n",
      "900000                 0                0                 0                0   \n",
      "950000                 0                0                 1                0   \n",
      "1000000                0                0                 0                0   \n",
      "1050000                0                1                 0                0   \n",
      "1100000                0                0                 2                0   \n",
      "1150000                0                2                 2                1   \n",
      "1200000                0                0                 1                0   \n",
      "1250000                0                0                 1                0   \n",
      "1300000                0                1                 0                0   \n",
      "\n",
      "         compliment_funny  compliment_writer  compliment_photos  \n",
      "0                       0                  0                  0  \n",
      "50000                   0                  1                  0  \n",
      "100000                  0                  0                  0  \n",
      "150000                  0                  0                  0  \n",
      "200000                  1                  0                  0  \n",
      "250000                  0                  0                  0  \n",
      "300000                  0                  0                  0  \n",
      "350000                  0                  0                  0  \n",
      "400000                  0                  0                  0  \n",
      "450000                  6                  4                  0  \n",
      "500000                  0                  0                  0  \n",
      "550000                  0                  1                  0  \n",
      "600000                  0                  0                  0  \n",
      "650000                  0                  2                  2  \n",
      "700000                 33                 13                  2  \n",
      "750000                  0                  0                  0  \n",
      "800000                  0                  0                  1  \n",
      "850000                  0                  0                  0  \n",
      "900000                  0                  0                  0  \n",
      "950000                  0                  0                  0  \n",
      "1000000                 0                  0                  0  \n",
      "1050000                 0                  0                  0  \n",
      "1100000                 0                  0                  0  \n",
      "1150000                 1                  0                  0  \n",
      "1200000                 0                  0                  0  \n",
      "1250000                 0                  0                  3  \n",
      "1300000                 0                  1                  0  \n"
     ]
    }
   ],
   "source": [
    "print('-Dataset examples-')\n",
    "print(df1.iloc[::50000, :])"
   ]
  },
  {
   "cell_type": "code",
   "execution_count": 16,
   "metadata": {},
   "outputs": [
    {
     "name": "stdout",
     "output_type": "stream",
     "text": [
      "(1326100, 17)\n"
     ]
    }
   ],
   "source": [
    "print(df1.shape)"
   ]
  },
  {
   "cell_type": "code",
   "execution_count": 18,
   "metadata": {},
   "outputs": [],
   "source": [
    "def get_closest(p, centers):\n",
    "    '''\n",
    "    Return the indices the nearest centroids of `p`.\n",
    "    `centers` contains sets of centroids, where `centers[i]` is\n",
    "    the i-th set of centroids.\n",
    "    '''\n",
    "    best = [0] * len(centers)\n",
    "    closest = [np.inf] * len(centers)\n",
    "    for i in range(len(centers)):\n",
    "        for j in range(len(centers[0])):\n",
    "            temp_dist = norm(p - centers[i][j])\n",
    "            if temp_dist < closest[i]:\n",
    "                closest[i] = temp_dist\n",
    "                best[i] = j\n",
    "    return best"
   ]
  },
  {
   "cell_type": "code",
   "execution_count": 57,
   "metadata": {},
   "outputs": [],
   "source": [
    "def random_centers(rows, K):\n",
    "  \n",
    "    center = np.zeros(K)\n",
    "    center_set = set()\n",
    "    for i in range(0, K):\n",
    "        center[i] = np.random.randint(rows)\n",
    "        if center[i] in center_set:\n",
    "            while center[i] in center_set:\n",
    "                center[i] = np.random.randint(rows)\n",
    "        else:\n",
    "            center_set.add(center[i])\n",
    "    return center"
   ]
  },
  {
   "cell_type": "code",
   "execution_count": 55,
   "metadata": {},
   "outputs": [],
   "source": [
    "def minibatch_kmeans(df, k, minibatch_size, iters):\n",
    "    # randomly pick k centroids\n",
    "    centroids = df[np.array(random_centers(df.shape[0], k)).astype(int)]\n",
    "    dic = dict()\n",
    "    total_dis = 0\n",
    "    for idx in range(1, iters + 1):\n",
    "        batch = np.array(random_centers(df.shape[0], minibatch_size)).astype(int)\n",
    "        for i in batch:\n",
    "            min_dis = 10000000\n",
    "            max_dis = 0\n",
    "\n",
    "            # cache the center nearest to x\n",
    "            for j in range(len(centroids)):\n",
    "                temp_dis = np.linalg.norm(df[i, :] - centroids[j])\n",
    "                if temp_dis < min_dis:\n",
    "                    min_dis = temp_dis\n",
    "                    dic[i] = j\n",
    "\n",
    "            dis = np.linalg.norm(df[i, :] - centroids[dic[i]])\n",
    "            total_dis += dis\n",
    "            max_dis = max(max_dis, dis)\n",
    "            min_dis = min(min_dis, dis)\n",
    "        # update centers\n",
    "        eta = 1 / idx\n",
    "        for x in batch:\n",
    "            centroids[dic[i]] = (1 - eta) * centroids[dic[i]] + eta * df[i, :]\n",
    "            \n",
    "    return centroids, dic"
   ]
  },
  {
   "cell_type": "code",
   "execution_count": 25,
   "metadata": {},
   "outputs": [],
   "source": [
    "df2=df1.values"
   ]
  },
  {
   "cell_type": "code",
   "execution_count": 58,
   "metadata": {},
   "outputs": [],
   "source": [
    "centroids, dic = minibatch_kmeans(df2, 200, 5000, 100)"
   ]
  },
  {
   "cell_type": "code",
   "execution_count": 46,
   "metadata": {},
   "outputs": [
    {
     "name": "stdout",
     "output_type": "stream",
     "text": [
      "(200, 17)\n"
     ]
    }
   ],
   "source": [
    "print(centroids.shape)"
   ]
  },
  {
   "cell_type": "code",
   "execution_count": 80,
   "metadata": {},
   "outputs": [],
   "source": [
    "import random\n",
    "def kmeans_initialize(df, K):\n",
    "    Centers = []\n",
    "    for i in range(K):\n",
    "        Centers.append(df[np.random.randint(df.shape[0])])\n",
    "    for k in range(1, K):\n",
    "        cumprobs = 0\n",
    "        D2 = np.array([min([np.inner(c-x,c-x) for c in Centers]) for x in df])\n",
    "        probs = D2/np.sum(D2)\n",
    "        cumprobs += probs\n",
    "        r = random.random()\n",
    "        for j,p in enumerate(cumprobs):\n",
    "            if r < p:\n",
    "                Centers[i] = df[j]\n",
    "                break\n",
    "        Centers.append(Centers[i])\n",
    "    return Centers"
   ]
  },
  {
   "cell_type": "code",
   "execution_count": 76,
   "metadata": {},
   "outputs": [],
   "source": [
    "def minibatch_kmeans_plus(df, k, minibatch_size, max_iter):\n",
    "    # randomly pick k centroids\n",
    "    centroids = kmeans_initialize(df,k)\n",
    "    dic = dict()\n",
    "    total_dis = 0\n",
    "    for idx in range(1, iters + 1):\n",
    "        batch = np.array(random_centers(df.shape[0], minibatch_size)).astype(int)\n",
    "        for i in batch:\n",
    "            min_dis = 10000000\n",
    "            max_dis = 0\n",
    "\n",
    "            # cache the center nearest to x\n",
    "            for j in range(len(centroids)):\n",
    "                temp_dis = np.linalg.norm(df[i, :] - centroids[j])\n",
    "                if temp_dis < min_dis:\n",
    "                    min_dis = temp_dis\n",
    "                    dic[i] = j\n",
    "\n",
    "            dis = np.linalg.norm(df[i, :] - centroids[  dic[i]])\n",
    "            total_dis += dis\n",
    "            max_dis = max(max_dis, dis)\n",
    "            min_dis = min(min_dis, dis)\n",
    "        # update centers\n",
    "        eta = 1 / idx\n",
    "        for x in batch:\n",
    "            centroids[dic[i]] = (1 - eta) * centroids[dic[i]] + eta * df[i, :]\n",
    "            \n",
    "    return centroids, dic"
   ]
  },
  {
   "cell_type": "code",
   "execution_count": null,
   "metadata": {},
   "outputs": [],
   "source": [
    "centroids, dic= minibatch_kmeans_plus(df2, 200, 5000, 100)"
   ]
  },
  {
   "cell_type": "code",
   "execution_count": null,
   "metadata": {},
   "outputs": [],
   "source": []
  }
 ],
 "metadata": {
  "kernelspec": {
   "display_name": "Python 3",
   "language": "python",
   "name": "python3"
  },
  "language_info": {
   "codemirror_mode": {
    "name": "ipython",
    "version": 3
   },
   "file_extension": ".py",
   "mimetype": "text/x-python",
   "name": "python",
   "nbconvert_exporter": "python",
   "pygments_lexer": "ipython3",
   "version": "3.6.5"
  }
 },
 "nbformat": 4,
 "nbformat_minor": 2
}
